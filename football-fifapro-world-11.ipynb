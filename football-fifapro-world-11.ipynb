{
 "cells": [
  {
   "cell_type": "markdown",
   "id": "dae1e36b",
   "metadata": {
    "papermill": {
     "duration": 0.027774,
     "end_time": "2021-07-16T02:02:25.598117",
     "exception": false,
     "start_time": "2021-07-16T02:02:25.570343",
     "status": "completed"
    },
    "tags": []
   },
   "source": [
    "In this notebook we will explore the European Soccer Database and determine the FifaWorld 11 for the years (2007 - 2016). \n",
    "\n",
    "* We will be using a pitch visualization to depict our results using the mplsoccer package.\n",
    "* We will also be using the ipywidgets to create interactive visualizations. "
   ]
  },
  {
   "cell_type": "markdown",
   "id": "b51333cd",
   "metadata": {
    "papermill": {
     "duration": 0.025285,
     "end_time": "2021-07-16T02:02:25.649460",
     "exception": false,
     "start_time": "2021-07-16T02:02:25.624175",
     "status": "completed"
    },
    "tags": []
   },
   "source": [
    "* Mplsoccer gives you the ability to draw pitches in python. Complete guide, https://mplsoccer.readthedocs.io/en/latest/\n",
    "* Ipywidgets allow you to interact with graphs within Jupyter notebooks. Complete guide, https://ipywidgets.readthedocs.io/en/latest/"
   ]
  },
  {
   "cell_type": "code",
   "execution_count": 1,
   "id": "64426fa5",
   "metadata": {
    "execution": {
     "iopub.execute_input": "2021-07-16T02:02:25.705328Z",
     "iopub.status.busy": "2021-07-16T02:02:25.704226Z",
     "iopub.status.idle": "2021-07-16T02:02:36.225739Z",
     "shell.execute_reply": "2021-07-16T02:02:36.225064Z",
     "shell.execute_reply.started": "2021-07-16T01:43:12.575543Z"
    },
    "papermill": {
     "duration": 10.550946,
     "end_time": "2021-07-16T02:02:36.225922",
     "exception": false,
     "start_time": "2021-07-16T02:02:25.674976",
     "status": "completed"
    },
    "tags": []
   },
   "outputs": [
    {
     "name": "stdout",
     "output_type": "stream",
     "text": [
      "Collecting mplsoccer\r\n",
      "  Downloading mplsoccer-1.0.5.tar.gz (57 kB)\r\n",
      "\u001b[K     |████████████████████████████████| 57 kB 2.2 MB/s \r\n",
      "\u001b[?25hRequirement already satisfied: matplotlib in /opt/conda/lib/python3.7/site-packages (from mplsoccer) (3.4.2)\r\n",
      "Requirement already satisfied: seaborn in /opt/conda/lib/python3.7/site-packages (from mplsoccer) (0.11.1)\r\n",
      "Requirement already satisfied: scipy in /opt/conda/lib/python3.7/site-packages (from mplsoccer) (1.6.3)\r\n",
      "Requirement already satisfied: pandas in /opt/conda/lib/python3.7/site-packages (from mplsoccer) (1.2.4)\r\n",
      "Requirement already satisfied: pillow in /opt/conda/lib/python3.7/site-packages (from mplsoccer) (8.2.0)\r\n",
      "Requirement already satisfied: numpy in /opt/conda/lib/python3.7/site-packages (from mplsoccer) (1.19.5)\r\n",
      "Requirement already satisfied: beautifulsoup4 in /opt/conda/lib/python3.7/site-packages (from mplsoccer) (4.9.3)\r\n",
      "Requirement already satisfied: soupsieve>1.2 in /opt/conda/lib/python3.7/site-packages (from beautifulsoup4->mplsoccer) (2.2.1)\r\n",
      "Requirement already satisfied: kiwisolver>=1.0.1 in /opt/conda/lib/python3.7/site-packages (from matplotlib->mplsoccer) (1.3.1)\r\n",
      "Requirement already satisfied: python-dateutil>=2.7 in /opt/conda/lib/python3.7/site-packages (from matplotlib->mplsoccer) (2.8.1)\r\n",
      "Requirement already satisfied: pyparsing>=2.2.1 in /opt/conda/lib/python3.7/site-packages (from matplotlib->mplsoccer) (2.4.7)\r\n",
      "Requirement already satisfied: cycler>=0.10 in /opt/conda/lib/python3.7/site-packages (from matplotlib->mplsoccer) (0.10.0)\r\n",
      "Requirement already satisfied: six in /opt/conda/lib/python3.7/site-packages (from cycler>=0.10->matplotlib->mplsoccer) (1.15.0)\r\n",
      "Requirement already satisfied: pytz>=2017.3 in /opt/conda/lib/python3.7/site-packages (from pandas->mplsoccer) (2021.1)\r\n",
      "Building wheels for collected packages: mplsoccer\r\n",
      "  Building wheel for mplsoccer (setup.py) ... \u001b[?25l-\b \b\\\b \bdone\r\n",
      "\u001b[?25h  Created wheel for mplsoccer: filename=mplsoccer-1.0.5-py3-none-any.whl size=62945 sha256=3794f70e721074e1f08bdf4ecf0397b6c509adf71d898e99646988858113bd6a\r\n",
      "  Stored in directory: /root/.cache/pip/wheels/35/71/46/5f3df8e696517b395ed75971c4d09f5854310efc09d364a9ca\r\n",
      "Successfully built mplsoccer\r\n",
      "Installing collected packages: mplsoccer\r\n",
      "Successfully installed mplsoccer-1.0.5\r\n",
      "\u001b[33mWARNING: Running pip as root will break packages and permissions. You should install packages reliably by using venv: https://pip.pypa.io/warnings/venv\u001b[0m\r\n"
     ]
    }
   ],
   "source": [
    "!pip install mplsoccer\n",
    "import numpy as np # linear algebra\n",
    "import pandas as pd # data processing, CSV file I/O (e.g. pd.read_csv)\n",
    "import sqlite3\n",
    "from mplsoccer.pitch import Pitch\n",
    "import ipywidgets as widgets\n",
    "from IPython.display import display\n",
    "import os\n",
    "import matplotlib.pyplot as plt"
   ]
  },
  {
   "cell_type": "code",
   "execution_count": 2,
   "id": "b760776b",
   "metadata": {
    "execution": {
     "iopub.execute_input": "2021-07-16T02:02:36.287227Z",
     "iopub.status.busy": "2021-07-16T02:02:36.286545Z",
     "iopub.status.idle": "2021-07-16T02:02:36.304138Z",
     "shell.execute_reply": "2021-07-16T02:02:36.303541Z",
     "shell.execute_reply.started": "2021-07-16T01:42:03.75516Z"
    },
    "papermill": {
     "duration": 0.049842,
     "end_time": "2021-07-16T02:02:36.304284",
     "exception": false,
     "start_time": "2021-07-16T02:02:36.254442",
     "status": "completed"
    },
    "tags": []
   },
   "outputs": [
    {
     "name": "stdout",
     "output_type": "stream",
     "text": [
      "/kaggle/input/soccer/database.sqlite\n",
      "/kaggle/input/player-positions-for-european-soccer-database/player_positions.csv\n"
     ]
    }
   ],
   "source": [
    "# Input data files are available in the read-only \"../input/\" directory\n",
    "# For example, running this (by clicking run or pressing Shift+Enter) will list all files under the input directory\n",
    "\n",
    "import os\n",
    "for dirname, _, filenames in os.walk('/kaggle/input'):\n",
    "    for filename in filenames:\n",
    "        print(os.path.join(dirname, filename))"
   ]
  },
  {
   "cell_type": "code",
   "execution_count": 3,
   "id": "7cfcafc0",
   "metadata": {
    "execution": {
     "iopub.execute_input": "2021-07-16T02:02:36.367787Z",
     "iopub.status.busy": "2021-07-16T02:02:36.367117Z",
     "iopub.status.idle": "2021-07-16T02:02:53.854485Z",
     "shell.execute_reply": "2021-07-16T02:02:53.853854Z",
     "shell.execute_reply.started": "2021-07-16T01:42:07.492069Z"
    },
    "papermill": {
     "duration": 17.521593,
     "end_time": "2021-07-16T02:02:53.854650",
     "exception": false,
     "start_time": "2021-07-16T02:02:36.333057",
     "status": "completed"
    },
    "tags": []
   },
   "outputs": [],
   "source": [
    "path = \"../input/soccer/database.sqlite\" \n",
    "dataConnect = sqlite3.connect(path)\n",
    "\n",
    "Match = pd.read_sql_query(\"SELECT * FROM Match\",dataConnect)\n",
    "PlayerA = pd.read_sql_query(\"SELECT * FROM Player_Attributes\",dataConnect)\n",
    "Player = pd.read_sql_query(\"Select * FROM Player\",dataConnect)\n",
    "Positions = pd.read_csv(\"../input/player-positions-for-european-soccer-database/player_positions.csv\")"
   ]
  },
  {
   "cell_type": "markdown",
   "id": "1d1e0b2d",
   "metadata": {
    "papermill": {
     "duration": 0.027658,
     "end_time": "2021-07-16T02:02:53.910865",
     "exception": false,
     "start_time": "2021-07-16T02:02:53.883207",
     "status": "completed"
    },
    "tags": []
   },
   "source": [
    "* Lets start by exploring the positions dataset since this will be crucial in determining which position each top player would be playing in"
   ]
  },
  {
   "cell_type": "code",
   "execution_count": 4,
   "id": "de69e907",
   "metadata": {
    "execution": {
     "iopub.execute_input": "2021-07-16T02:02:53.973276Z",
     "iopub.status.busy": "2021-07-16T02:02:53.972509Z",
     "iopub.status.idle": "2021-07-16T02:02:53.995091Z",
     "shell.execute_reply": "2021-07-16T02:02:53.995585Z",
     "shell.execute_reply.started": "2021-07-16T01:42:28.809486Z"
    },
    "papermill": {
     "duration": 0.057082,
     "end_time": "2021-07-16T02:02:53.995751",
     "exception": false,
     "start_time": "2021-07-16T02:02:53.938669",
     "status": "completed"
    },
    "tags": []
   },
   "outputs": [
    {
     "data": {
      "text/html": [
       "<div>\n",
       "<style scoped>\n",
       "    .dataframe tbody tr th:only-of-type {\n",
       "        vertical-align: middle;\n",
       "    }\n",
       "\n",
       "    .dataframe tbody tr th {\n",
       "        vertical-align: top;\n",
       "    }\n",
       "\n",
       "    .dataframe thead th {\n",
       "        text-align: right;\n",
       "    }\n",
       "</style>\n",
       "<table border=\"1\" class=\"dataframe\">\n",
       "  <thead>\n",
       "    <tr style=\"text-align: right;\">\n",
       "      <th></th>\n",
       "      <th>playerID</th>\n",
       "      <th>CAM</th>\n",
       "      <th>CB</th>\n",
       "      <th>CDM</th>\n",
       "      <th>CF</th>\n",
       "      <th>CM</th>\n",
       "      <th>GK</th>\n",
       "      <th>LB</th>\n",
       "      <th>LF</th>\n",
       "      <th>LM</th>\n",
       "      <th>LW</th>\n",
       "      <th>LWB</th>\n",
       "      <th>RB</th>\n",
       "      <th>RF</th>\n",
       "      <th>RM</th>\n",
       "      <th>RW</th>\n",
       "      <th>RWB</th>\n",
       "      <th>ST</th>\n",
       "      <th>SW</th>\n",
       "    </tr>\n",
       "  </thead>\n",
       "  <tbody>\n",
       "    <tr>\n",
       "      <th>0</th>\n",
       "      <td>2</td>\n",
       "      <td>0</td>\n",
       "      <td>0</td>\n",
       "      <td>0</td>\n",
       "      <td>0</td>\n",
       "      <td>0</td>\n",
       "      <td>0</td>\n",
       "      <td>0</td>\n",
       "      <td>0</td>\n",
       "      <td>1</td>\n",
       "      <td>0</td>\n",
       "      <td>0</td>\n",
       "      <td>0</td>\n",
       "      <td>0</td>\n",
       "      <td>0</td>\n",
       "      <td>0</td>\n",
       "      <td>0</td>\n",
       "      <td>0</td>\n",
       "      <td>0</td>\n",
       "    </tr>\n",
       "    <tr>\n",
       "      <th>1</th>\n",
       "      <td>6</td>\n",
       "      <td>0</td>\n",
       "      <td>0</td>\n",
       "      <td>0</td>\n",
       "      <td>0</td>\n",
       "      <td>0</td>\n",
       "      <td>1</td>\n",
       "      <td>0</td>\n",
       "      <td>0</td>\n",
       "      <td>0</td>\n",
       "      <td>0</td>\n",
       "      <td>0</td>\n",
       "      <td>0</td>\n",
       "      <td>0</td>\n",
       "      <td>0</td>\n",
       "      <td>0</td>\n",
       "      <td>0</td>\n",
       "      <td>0</td>\n",
       "      <td>0</td>\n",
       "    </tr>\n",
       "    <tr>\n",
       "      <th>2</th>\n",
       "      <td>11</td>\n",
       "      <td>0</td>\n",
       "      <td>0</td>\n",
       "      <td>2</td>\n",
       "      <td>0</td>\n",
       "      <td>1</td>\n",
       "      <td>0</td>\n",
       "      <td>0</td>\n",
       "      <td>0</td>\n",
       "      <td>0</td>\n",
       "      <td>0</td>\n",
       "      <td>0</td>\n",
       "      <td>0</td>\n",
       "      <td>0</td>\n",
       "      <td>0</td>\n",
       "      <td>0</td>\n",
       "      <td>0</td>\n",
       "      <td>0</td>\n",
       "      <td>0</td>\n",
       "    </tr>\n",
       "    <tr>\n",
       "      <th>3</th>\n",
       "      <td>16</td>\n",
       "      <td>2</td>\n",
       "      <td>0</td>\n",
       "      <td>0</td>\n",
       "      <td>0</td>\n",
       "      <td>1</td>\n",
       "      <td>0</td>\n",
       "      <td>0</td>\n",
       "      <td>0</td>\n",
       "      <td>0</td>\n",
       "      <td>0</td>\n",
       "      <td>0</td>\n",
       "      <td>0</td>\n",
       "      <td>0</td>\n",
       "      <td>0</td>\n",
       "      <td>0</td>\n",
       "      <td>0</td>\n",
       "      <td>0</td>\n",
       "      <td>0</td>\n",
       "    </tr>\n",
       "    <tr>\n",
       "      <th>4</th>\n",
       "      <td>27</td>\n",
       "      <td>1</td>\n",
       "      <td>0</td>\n",
       "      <td>0</td>\n",
       "      <td>0</td>\n",
       "      <td>0</td>\n",
       "      <td>0</td>\n",
       "      <td>0</td>\n",
       "      <td>0</td>\n",
       "      <td>4</td>\n",
       "      <td>0</td>\n",
       "      <td>0</td>\n",
       "      <td>0</td>\n",
       "      <td>0</td>\n",
       "      <td>2</td>\n",
       "      <td>3</td>\n",
       "      <td>0</td>\n",
       "      <td>0</td>\n",
       "      <td>0</td>\n",
       "    </tr>\n",
       "    <tr>\n",
       "      <th>5</th>\n",
       "      <td>28</td>\n",
       "      <td>0</td>\n",
       "      <td>0</td>\n",
       "      <td>0</td>\n",
       "      <td>0</td>\n",
       "      <td>0</td>\n",
       "      <td>1</td>\n",
       "      <td>0</td>\n",
       "      <td>0</td>\n",
       "      <td>0</td>\n",
       "      <td>0</td>\n",
       "      <td>0</td>\n",
       "      <td>0</td>\n",
       "      <td>0</td>\n",
       "      <td>0</td>\n",
       "      <td>0</td>\n",
       "      <td>0</td>\n",
       "      <td>0</td>\n",
       "      <td>0</td>\n",
       "    </tr>\n",
       "    <tr>\n",
       "      <th>6</th>\n",
       "      <td>41</td>\n",
       "      <td>0</td>\n",
       "      <td>0</td>\n",
       "      <td>0</td>\n",
       "      <td>0</td>\n",
       "      <td>1</td>\n",
       "      <td>0</td>\n",
       "      <td>0</td>\n",
       "      <td>0</td>\n",
       "      <td>2</td>\n",
       "      <td>0</td>\n",
       "      <td>0</td>\n",
       "      <td>0</td>\n",
       "      <td>0</td>\n",
       "      <td>0</td>\n",
       "      <td>0</td>\n",
       "      <td>0</td>\n",
       "      <td>0</td>\n",
       "      <td>0</td>\n",
       "    </tr>\n",
       "    <tr>\n",
       "      <th>7</th>\n",
       "      <td>58</td>\n",
       "      <td>0</td>\n",
       "      <td>0</td>\n",
       "      <td>1</td>\n",
       "      <td>0</td>\n",
       "      <td>0</td>\n",
       "      <td>0</td>\n",
       "      <td>0</td>\n",
       "      <td>0</td>\n",
       "      <td>0</td>\n",
       "      <td>0</td>\n",
       "      <td>0</td>\n",
       "      <td>2</td>\n",
       "      <td>0</td>\n",
       "      <td>0</td>\n",
       "      <td>0</td>\n",
       "      <td>0</td>\n",
       "      <td>0</td>\n",
       "      <td>0</td>\n",
       "    </tr>\n",
       "    <tr>\n",
       "      <th>8</th>\n",
       "      <td>61</td>\n",
       "      <td>0</td>\n",
       "      <td>0</td>\n",
       "      <td>0</td>\n",
       "      <td>0</td>\n",
       "      <td>0</td>\n",
       "      <td>0</td>\n",
       "      <td>0</td>\n",
       "      <td>0</td>\n",
       "      <td>0</td>\n",
       "      <td>0</td>\n",
       "      <td>0</td>\n",
       "      <td>0</td>\n",
       "      <td>0</td>\n",
       "      <td>2</td>\n",
       "      <td>1</td>\n",
       "      <td>0</td>\n",
       "      <td>0</td>\n",
       "      <td>0</td>\n",
       "    </tr>\n",
       "    <tr>\n",
       "      <th>9</th>\n",
       "      <td>80</td>\n",
       "      <td>0</td>\n",
       "      <td>0</td>\n",
       "      <td>2</td>\n",
       "      <td>0</td>\n",
       "      <td>1</td>\n",
       "      <td>0</td>\n",
       "      <td>0</td>\n",
       "      <td>0</td>\n",
       "      <td>0</td>\n",
       "      <td>0</td>\n",
       "      <td>0</td>\n",
       "      <td>0</td>\n",
       "      <td>0</td>\n",
       "      <td>0</td>\n",
       "      <td>0</td>\n",
       "      <td>0</td>\n",
       "      <td>0</td>\n",
       "      <td>0</td>\n",
       "    </tr>\n",
       "  </tbody>\n",
       "</table>\n",
       "</div>"
      ],
      "text/plain": [
       "   playerID  CAM  CB  CDM  CF  CM  GK  LB  LF  LM  LW  LWB  RB  RF  RM  RW  \\\n",
       "0         2    0   0    0   0   0   0   0   0   1   0    0   0   0   0   0   \n",
       "1         6    0   0    0   0   0   1   0   0   0   0    0   0   0   0   0   \n",
       "2        11    0   0    2   0   1   0   0   0   0   0    0   0   0   0   0   \n",
       "3        16    2   0    0   0   1   0   0   0   0   0    0   0   0   0   0   \n",
       "4        27    1   0    0   0   0   0   0   0   4   0    0   0   0   2   3   \n",
       "5        28    0   0    0   0   0   1   0   0   0   0    0   0   0   0   0   \n",
       "6        41    0   0    0   0   1   0   0   0   2   0    0   0   0   0   0   \n",
       "7        58    0   0    1   0   0   0   0   0   0   0    0   2   0   0   0   \n",
       "8        61    0   0    0   0   0   0   0   0   0   0    0   0   0   2   1   \n",
       "9        80    0   0    2   0   1   0   0   0   0   0    0   0   0   0   0   \n",
       "\n",
       "   RWB  ST  SW  \n",
       "0    0   0   0  \n",
       "1    0   0   0  \n",
       "2    0   0   0  \n",
       "3    0   0   0  \n",
       "4    0   0   0  \n",
       "5    0   0   0  \n",
       "6    0   0   0  \n",
       "7    0   0   0  \n",
       "8    0   0   0  \n",
       "9    0   0   0  "
      ]
     },
     "execution_count": 4,
     "metadata": {},
     "output_type": "execute_result"
    }
   ],
   "source": [
    "Positions.head(10)"
   ]
  },
  {
   "cell_type": "markdown",
   "id": "6014cd25",
   "metadata": {
    "papermill": {
     "duration": 0.028487,
     "end_time": "2021-07-16T02:02:54.052934",
     "exception": false,
     "start_time": "2021-07-16T02:02:54.024447",
     "status": "completed"
    },
    "tags": []
   },
   "source": [
    "* We can see that the player positions are categorical columns containing numbers with each number, 1 to 5, representing the order of preference of the postition for that player with 1 being the primary position.\n",
    "\n",
    "* We therefore pick the position corresponding to where the number 1 is for each player and make a new column called \"Positions\" by transposing the column headers so that they are within the newly created column \n",
    "\n",
    "* We would also fill any empty positions with \"None\". There is no significance for this but just to keep the data clean"
   ]
  },
  {
   "cell_type": "code",
   "execution_count": 5,
   "id": "c4bcfc62",
   "metadata": {
    "execution": {
     "iopub.execute_input": "2021-07-16T02:02:54.116640Z",
     "iopub.status.busy": "2021-07-16T02:02:54.116001Z",
     "iopub.status.idle": "2021-07-16T02:02:54.165839Z",
     "shell.execute_reply": "2021-07-16T02:02:54.166291Z",
     "shell.execute_reply.started": "2021-07-16T01:42:28.843695Z"
    },
    "papermill": {
     "duration": 0.08383,
     "end_time": "2021-07-16T02:02:54.166456",
     "exception": false,
     "start_time": "2021-07-16T02:02:54.082626",
     "status": "completed"
    },
    "tags": []
   },
   "outputs": [
    {
     "data": {
      "text/html": [
       "<div>\n",
       "<style scoped>\n",
       "    .dataframe tbody tr th:only-of-type {\n",
       "        vertical-align: middle;\n",
       "    }\n",
       "\n",
       "    .dataframe tbody tr th {\n",
       "        vertical-align: top;\n",
       "    }\n",
       "\n",
       "    .dataframe thead th {\n",
       "        text-align: right;\n",
       "    }\n",
       "</style>\n",
       "<table border=\"1\" class=\"dataframe\">\n",
       "  <thead>\n",
       "    <tr style=\"text-align: right;\">\n",
       "      <th></th>\n",
       "      <th>playerID</th>\n",
       "      <th>CAM</th>\n",
       "      <th>CB</th>\n",
       "      <th>CDM</th>\n",
       "      <th>CF</th>\n",
       "      <th>CM</th>\n",
       "      <th>GK</th>\n",
       "      <th>LB</th>\n",
       "      <th>LF</th>\n",
       "      <th>LM</th>\n",
       "      <th>LW</th>\n",
       "      <th>LWB</th>\n",
       "      <th>RB</th>\n",
       "      <th>RF</th>\n",
       "      <th>RM</th>\n",
       "      <th>RW</th>\n",
       "      <th>RWB</th>\n",
       "      <th>ST</th>\n",
       "      <th>SW</th>\n",
       "      <th>Position</th>\n",
       "    </tr>\n",
       "  </thead>\n",
       "  <tbody>\n",
       "    <tr>\n",
       "      <th>0</th>\n",
       "      <td>2</td>\n",
       "      <td>0</td>\n",
       "      <td>0</td>\n",
       "      <td>0</td>\n",
       "      <td>0</td>\n",
       "      <td>0</td>\n",
       "      <td>0</td>\n",
       "      <td>0</td>\n",
       "      <td>0</td>\n",
       "      <td>1</td>\n",
       "      <td>0</td>\n",
       "      <td>0</td>\n",
       "      <td>0</td>\n",
       "      <td>0</td>\n",
       "      <td>0</td>\n",
       "      <td>0</td>\n",
       "      <td>0</td>\n",
       "      <td>0</td>\n",
       "      <td>0</td>\n",
       "      <td>LM</td>\n",
       "    </tr>\n",
       "  </tbody>\n",
       "</table>\n",
       "</div>"
      ],
      "text/plain": [
       "   playerID  CAM  CB  CDM  CF  CM  GK  LB  LF  LM  LW  LWB  RB  RF  RM  RW  \\\n",
       "0         2    0   0    0   0   0   0   0   0   1   0    0   0   0   0   0   \n",
       "\n",
       "   RWB  ST  SW Position  \n",
       "0    0   0   0       LM  "
      ]
     },
     "execution_count": 5,
     "metadata": {},
     "output_type": "execute_result"
    }
   ],
   "source": [
    "Positions['Position'] = (Positions[(Positions == 1).sum(axis =1)==1]==1).idxmax(axis =1)\n",
    "Positions['Position'] = Positions['Position'].fillna(\"None\")\n",
    "Positions.head(1)\n"
   ]
  },
  {
   "cell_type": "markdown",
   "id": "3ba7a28c",
   "metadata": {
    "papermill": {
     "duration": 0.028881,
     "end_time": "2021-07-16T02:02:54.224184",
     "exception": false,
     "start_time": "2021-07-16T02:02:54.195303",
     "status": "completed"
    },
    "tags": []
   },
   "source": [
    "* Lets now merge the Player dataset with the positions dataset in order to get the player names. We will drop all the rest of the position columns and just keep the custom created column. \n",
    "* We now have a dataset with each players name and their position"
   ]
  },
  {
   "cell_type": "code",
   "execution_count": 6,
   "id": "b310ad34",
   "metadata": {
    "execution": {
     "iopub.execute_input": "2021-07-16T02:02:54.289469Z",
     "iopub.status.busy": "2021-07-16T02:02:54.288815Z",
     "iopub.status.idle": "2021-07-16T02:02:54.318015Z",
     "shell.execute_reply": "2021-07-16T02:02:54.317417Z",
     "shell.execute_reply.started": "2021-07-16T01:42:28.906631Z"
    },
    "papermill": {
     "duration": 0.064152,
     "end_time": "2021-07-16T02:02:54.318156",
     "exception": false,
     "start_time": "2021-07-16T02:02:54.254004",
     "status": "completed"
    },
    "tags": []
   },
   "outputs": [
    {
     "data": {
      "text/html": [
       "<div>\n",
       "<style scoped>\n",
       "    .dataframe tbody tr th:only-of-type {\n",
       "        vertical-align: middle;\n",
       "    }\n",
       "\n",
       "    .dataframe tbody tr th {\n",
       "        vertical-align: top;\n",
       "    }\n",
       "\n",
       "    .dataframe thead th {\n",
       "        text-align: right;\n",
       "    }\n",
       "</style>\n",
       "<table border=\"1\" class=\"dataframe\">\n",
       "  <thead>\n",
       "    <tr style=\"text-align: right;\">\n",
       "      <th></th>\n",
       "      <th>player_api_id</th>\n",
       "      <th>player_name</th>\n",
       "      <th>birthday</th>\n",
       "      <th>Position</th>\n",
       "    </tr>\n",
       "  </thead>\n",
       "  <tbody>\n",
       "    <tr>\n",
       "      <th>0</th>\n",
       "      <td>505942</td>\n",
       "      <td>Aaron Appindangoye</td>\n",
       "      <td>1992-02-29 00:00:00</td>\n",
       "      <td>CB</td>\n",
       "    </tr>\n",
       "    <tr>\n",
       "      <th>1</th>\n",
       "      <td>155782</td>\n",
       "      <td>Aaron Cresswell</td>\n",
       "      <td>1989-12-15 00:00:00</td>\n",
       "      <td>CB</td>\n",
       "    </tr>\n",
       "    <tr>\n",
       "      <th>2</th>\n",
       "      <td>162549</td>\n",
       "      <td>Aaron Doran</td>\n",
       "      <td>1991-05-13 00:00:00</td>\n",
       "      <td>RM</td>\n",
       "    </tr>\n",
       "    <tr>\n",
       "      <th>3</th>\n",
       "      <td>30572</td>\n",
       "      <td>Aaron Galindo</td>\n",
       "      <td>1982-05-08 00:00:00</td>\n",
       "      <td>CB</td>\n",
       "    </tr>\n",
       "    <tr>\n",
       "      <th>4</th>\n",
       "      <td>23780</td>\n",
       "      <td>Aaron Hughes</td>\n",
       "      <td>1979-11-08 00:00:00</td>\n",
       "      <td>CB</td>\n",
       "    </tr>\n",
       "  </tbody>\n",
       "</table>\n",
       "</div>"
      ],
      "text/plain": [
       "   player_api_id         player_name             birthday Position\n",
       "0         505942  Aaron Appindangoye  1992-02-29 00:00:00       CB\n",
       "1         155782     Aaron Cresswell  1989-12-15 00:00:00       CB\n",
       "2         162549         Aaron Doran  1991-05-13 00:00:00       RM\n",
       "3          30572       Aaron Galindo  1982-05-08 00:00:00       CB\n",
       "4          23780        Aaron Hughes  1979-11-08 00:00:00       CB"
      ]
     },
     "execution_count": 6,
     "metadata": {},
     "output_type": "execute_result"
    }
   ],
   "source": [
    "PlayerPos = pd.merge(Player,Positions,how = 'left',left_on = 'player_fifa_api_id',right_on = 'playerID' )\n",
    "PlayerPos.drop(['id','player_fifa_api_id','height','weight','playerID','CAM','CB','CDM','CF','CM','GK','LB','LF','LM','LW','LWB','RB','RF','RM','RW','RWB','ST','SW'],axis = 'columns', inplace = True)\n",
    "PlayerPos.head()"
   ]
  },
  {
   "cell_type": "markdown",
   "id": "24b7b635",
   "metadata": {
    "papermill": {
     "duration": 0.029131,
     "end_time": "2021-07-16T02:02:54.376228",
     "exception": false,
     "start_time": "2021-07-16T02:02:54.347097",
     "status": "completed"
    },
    "tags": []
   },
   "source": [
    "* To make things easier, we will convert the positions to a shorter form, namely, ['Midfielder','GoalKeeper','Defender','Forward']"
   ]
  },
  {
   "cell_type": "code",
   "execution_count": 7,
   "id": "adbb442d",
   "metadata": {
    "execution": {
     "iopub.execute_input": "2021-07-16T02:02:54.457136Z",
     "iopub.status.busy": "2021-07-16T02:02:54.456392Z",
     "iopub.status.idle": "2021-07-16T02:02:54.473265Z",
     "shell.execute_reply": "2021-07-16T02:02:54.472726Z",
     "shell.execute_reply.started": "2021-07-16T01:42:28.944085Z"
    },
    "papermill": {
     "duration": 0.068027,
     "end_time": "2021-07-16T02:02:54.473405",
     "exception": false,
     "start_time": "2021-07-16T02:02:54.405378",
     "status": "completed"
    },
    "tags": []
   },
   "outputs": [
    {
     "data": {
      "text/html": [
       "<div>\n",
       "<style scoped>\n",
       "    .dataframe tbody tr th:only-of-type {\n",
       "        vertical-align: middle;\n",
       "    }\n",
       "\n",
       "    .dataframe tbody tr th {\n",
       "        vertical-align: top;\n",
       "    }\n",
       "\n",
       "    .dataframe thead th {\n",
       "        text-align: right;\n",
       "    }\n",
       "</style>\n",
       "<table border=\"1\" class=\"dataframe\">\n",
       "  <thead>\n",
       "    <tr style=\"text-align: right;\">\n",
       "      <th></th>\n",
       "      <th>player_api_id</th>\n",
       "      <th>player_name</th>\n",
       "      <th>birthday</th>\n",
       "      <th>Position</th>\n",
       "      <th>short_position</th>\n",
       "    </tr>\n",
       "  </thead>\n",
       "  <tbody>\n",
       "    <tr>\n",
       "      <th>0</th>\n",
       "      <td>505942</td>\n",
       "      <td>Aaron Appindangoye</td>\n",
       "      <td>1992-02-29 00:00:00</td>\n",
       "      <td>CB</td>\n",
       "      <td>Defender</td>\n",
       "    </tr>\n",
       "    <tr>\n",
       "      <th>1</th>\n",
       "      <td>155782</td>\n",
       "      <td>Aaron Cresswell</td>\n",
       "      <td>1989-12-15 00:00:00</td>\n",
       "      <td>CB</td>\n",
       "      <td>Defender</td>\n",
       "    </tr>\n",
       "    <tr>\n",
       "      <th>2</th>\n",
       "      <td>162549</td>\n",
       "      <td>Aaron Doran</td>\n",
       "      <td>1991-05-13 00:00:00</td>\n",
       "      <td>RM</td>\n",
       "      <td>Forward</td>\n",
       "    </tr>\n",
       "    <tr>\n",
       "      <th>3</th>\n",
       "      <td>30572</td>\n",
       "      <td>Aaron Galindo</td>\n",
       "      <td>1982-05-08 00:00:00</td>\n",
       "      <td>CB</td>\n",
       "      <td>Defender</td>\n",
       "    </tr>\n",
       "    <tr>\n",
       "      <th>4</th>\n",
       "      <td>23780</td>\n",
       "      <td>Aaron Hughes</td>\n",
       "      <td>1979-11-08 00:00:00</td>\n",
       "      <td>CB</td>\n",
       "      <td>Defender</td>\n",
       "    </tr>\n",
       "    <tr>\n",
       "      <th>...</th>\n",
       "      <td>...</td>\n",
       "      <td>...</td>\n",
       "      <td>...</td>\n",
       "      <td>...</td>\n",
       "      <td>...</td>\n",
       "    </tr>\n",
       "    <tr>\n",
       "      <th>11055</th>\n",
       "      <td>26357</td>\n",
       "      <td>Zoumana Camara</td>\n",
       "      <td>1979-04-03 00:00:00</td>\n",
       "      <td>CB</td>\n",
       "      <td>Defender</td>\n",
       "    </tr>\n",
       "    <tr>\n",
       "      <th>11056</th>\n",
       "      <td>111182</td>\n",
       "      <td>Zsolt Laczko</td>\n",
       "      <td>1986-12-18 00:00:00</td>\n",
       "      <td>LB</td>\n",
       "      <td>Defender</td>\n",
       "    </tr>\n",
       "    <tr>\n",
       "      <th>11057</th>\n",
       "      <td>36491</td>\n",
       "      <td>Zsolt Low</td>\n",
       "      <td>1979-04-29 00:00:00</td>\n",
       "      <td>LB</td>\n",
       "      <td>Defender</td>\n",
       "    </tr>\n",
       "    <tr>\n",
       "      <th>11058</th>\n",
       "      <td>35506</td>\n",
       "      <td>Zurab Khizanishvili</td>\n",
       "      <td>1981-10-06 00:00:00</td>\n",
       "      <td>CB</td>\n",
       "      <td>Defender</td>\n",
       "    </tr>\n",
       "    <tr>\n",
       "      <th>11059</th>\n",
       "      <td>39902</td>\n",
       "      <td>Zvjezdan Misimovic</td>\n",
       "      <td>1982-06-05 00:00:00</td>\n",
       "      <td>CAM</td>\n",
       "      <td>Midfielder</td>\n",
       "    </tr>\n",
       "  </tbody>\n",
       "</table>\n",
       "<p>11060 rows × 5 columns</p>\n",
       "</div>"
      ],
      "text/plain": [
       "       player_api_id          player_name             birthday Position  \\\n",
       "0             505942   Aaron Appindangoye  1992-02-29 00:00:00       CB   \n",
       "1             155782      Aaron Cresswell  1989-12-15 00:00:00       CB   \n",
       "2             162549          Aaron Doran  1991-05-13 00:00:00       RM   \n",
       "3              30572        Aaron Galindo  1982-05-08 00:00:00       CB   \n",
       "4              23780         Aaron Hughes  1979-11-08 00:00:00       CB   \n",
       "...              ...                  ...                  ...      ...   \n",
       "11055          26357       Zoumana Camara  1979-04-03 00:00:00       CB   \n",
       "11056         111182         Zsolt Laczko  1986-12-18 00:00:00       LB   \n",
       "11057          36491            Zsolt Low  1979-04-29 00:00:00       LB   \n",
       "11058          35506  Zurab Khizanishvili  1981-10-06 00:00:00       CB   \n",
       "11059          39902   Zvjezdan Misimovic  1982-06-05 00:00:00      CAM   \n",
       "\n",
       "      short_position  \n",
       "0           Defender  \n",
       "1           Defender  \n",
       "2            Forward  \n",
       "3           Defender  \n",
       "4           Defender  \n",
       "...              ...  \n",
       "11055       Defender  \n",
       "11056       Defender  \n",
       "11057       Defender  \n",
       "11058       Defender  \n",
       "11059     Midfielder  \n",
       "\n",
       "[11060 rows x 5 columns]"
      ]
     },
     "execution_count": 7,
     "metadata": {},
     "output_type": "execute_result"
    }
   ],
   "source": [
    "conditions = [(PlayerPos['Position'] == \"CAM\") | (PlayerPos['Position'] == \"CDM\") | (PlayerPos['Position'] == \"CM\") | (PlayerPos['Position'] == \"LWB\") |  (PlayerPos['Position'] == \"RWB\"),\n",
    "             (PlayerPos['Position'] == \"GK\"),\n",
    "             (PlayerPos['Position'] == \"CB\") | (PlayerPos['Position'] == \"LB\") | (PlayerPos['Position'] == \"RB\") | (PlayerPos['Position'] == \"SW\"),\n",
    "             (PlayerPos['Position'] == \"CF\") | (PlayerPos['Position'] == \"LF\") | (PlayerPos['Position'] == \"LW\") | (PlayerPos['Position'] == \"RF\") | (PlayerPos['Position'] == \"ST\") | (PlayerPos['Position'] == \"LM\") | (PlayerPos['Position'] == \"RM\") ]\n",
    "\n",
    "values = ['Midfielder','GoalKeeper','Defender','Forward']\n",
    "\n",
    "PlayerPos['short_position'] = np.select(conditions,values)\n",
    "PlayerPos"
   ]
  },
  {
   "cell_type": "markdown",
   "id": "f67e7cf9",
   "metadata": {
    "papermill": {
     "duration": 0.029941,
     "end_time": "2021-07-16T02:02:54.533699",
     "exception": false,
     "start_time": "2021-07-16T02:02:54.503758",
     "status": "completed"
    },
    "tags": []
   },
   "source": [
    "* Now we need to get the player attributes so that we can choose our World 11. We will combine the PlayerPos dataset that we created with the Player attributes dataset to get player rating oin different characteristics"
   ]
  },
  {
   "cell_type": "code",
   "execution_count": 8,
   "id": "ede4d14b",
   "metadata": {
    "execution": {
     "iopub.execute_input": "2021-07-16T02:02:54.599503Z",
     "iopub.status.busy": "2021-07-16T02:02:54.598154Z",
     "iopub.status.idle": "2021-07-16T02:02:54.784143Z",
     "shell.execute_reply": "2021-07-16T02:02:54.783509Z",
     "shell.execute_reply.started": "2021-07-16T01:42:28.986514Z"
    },
    "papermill": {
     "duration": 0.220592,
     "end_time": "2021-07-16T02:02:54.784283",
     "exception": false,
     "start_time": "2021-07-16T02:02:54.563691",
     "status": "completed"
    },
    "tags": []
   },
   "outputs": [
    {
     "data": {
      "text/html": [
       "<div>\n",
       "<style scoped>\n",
       "    .dataframe tbody tr th:only-of-type {\n",
       "        vertical-align: middle;\n",
       "    }\n",
       "\n",
       "    .dataframe tbody tr th {\n",
       "        vertical-align: top;\n",
       "    }\n",
       "\n",
       "    .dataframe thead th {\n",
       "        text-align: right;\n",
       "    }\n",
       "</style>\n",
       "<table border=\"1\" class=\"dataframe\">\n",
       "  <thead>\n",
       "    <tr style=\"text-align: right;\">\n",
       "      <th></th>\n",
       "      <th>id</th>\n",
       "      <th>player_fifa_api_id</th>\n",
       "      <th>player_api_id</th>\n",
       "      <th>date</th>\n",
       "      <th>overall_rating</th>\n",
       "      <th>potential</th>\n",
       "      <th>preferred_foot</th>\n",
       "      <th>attacking_work_rate</th>\n",
       "      <th>defensive_work_rate</th>\n",
       "      <th>crossing</th>\n",
       "      <th>...</th>\n",
       "      <th>sliding_tackle</th>\n",
       "      <th>gk_diving</th>\n",
       "      <th>gk_handling</th>\n",
       "      <th>gk_kicking</th>\n",
       "      <th>gk_positioning</th>\n",
       "      <th>gk_reflexes</th>\n",
       "      <th>player_name</th>\n",
       "      <th>birthday</th>\n",
       "      <th>Position</th>\n",
       "      <th>short_position</th>\n",
       "    </tr>\n",
       "  </thead>\n",
       "  <tbody>\n",
       "    <tr>\n",
       "      <th>0</th>\n",
       "      <td>1</td>\n",
       "      <td>218353</td>\n",
       "      <td>505942</td>\n",
       "      <td>2016-02-18 00:00:00</td>\n",
       "      <td>67.0</td>\n",
       "      <td>71.0</td>\n",
       "      <td>right</td>\n",
       "      <td>medium</td>\n",
       "      <td>medium</td>\n",
       "      <td>49.0</td>\n",
       "      <td>...</td>\n",
       "      <td>69.0</td>\n",
       "      <td>6.0</td>\n",
       "      <td>11.0</td>\n",
       "      <td>10.0</td>\n",
       "      <td>8.0</td>\n",
       "      <td>8.0</td>\n",
       "      <td>Aaron Appindangoye</td>\n",
       "      <td>1992-02-29 00:00:00</td>\n",
       "      <td>CB</td>\n",
       "      <td>Defender</td>\n",
       "    </tr>\n",
       "  </tbody>\n",
       "</table>\n",
       "<p>1 rows × 46 columns</p>\n",
       "</div>"
      ],
      "text/plain": [
       "   id  player_fifa_api_id  player_api_id                 date  overall_rating  \\\n",
       "0   1              218353         505942  2016-02-18 00:00:00            67.0   \n",
       "\n",
       "   potential preferred_foot attacking_work_rate defensive_work_rate  crossing  \\\n",
       "0       71.0          right              medium              medium      49.0   \n",
       "\n",
       "   ...  sliding_tackle  gk_diving  gk_handling  gk_kicking  gk_positioning  \\\n",
       "0  ...            69.0        6.0         11.0        10.0             8.0   \n",
       "\n",
       "   gk_reflexes         player_name             birthday  Position  \\\n",
       "0          8.0  Aaron Appindangoye  1992-02-29 00:00:00        CB   \n",
       "\n",
       "   short_position  \n",
       "0        Defender  \n",
       "\n",
       "[1 rows x 46 columns]"
      ]
     },
     "execution_count": 8,
     "metadata": {},
     "output_type": "execute_result"
    }
   ],
   "source": [
    "PlayerDetails = PlayerA.merge(PlayerPos,on = 'player_api_id', how = 'left')\n",
    "PlayerDetails.head(1)"
   ]
  },
  {
   "cell_type": "markdown",
   "id": "a0b19ba0",
   "metadata": {
    "papermill": {
     "duration": 0.030876,
     "end_time": "2021-07-16T02:02:54.846119",
     "exception": false,
     "start_time": "2021-07-16T02:02:54.815243",
     "status": "completed"
    },
    "tags": []
   },
   "source": [
    "* Now here you can either calculate your own overall_rating by weighting different attributes depending on which position the player plays in, e.g you can select all the defensive attributes for a defender, give them high weight and then average them to get to an overall rating, or you could just pick the overall_rating characteristic provided by the dataset. \n",
    "\n",
    "* I chose to go with the overall_rating dataset since it resulted in better results in comparison to actual world 11 released by fifa"
   ]
  },
  {
   "cell_type": "code",
   "execution_count": 9,
   "id": "aabe171c",
   "metadata": {
    "execution": {
     "iopub.execute_input": "2021-07-16T02:02:54.912208Z",
     "iopub.status.busy": "2021-07-16T02:02:54.911620Z",
     "iopub.status.idle": "2021-07-16T02:02:55.018450Z",
     "shell.execute_reply": "2021-07-16T02:02:55.018886Z",
     "shell.execute_reply.started": "2021-07-16T01:42:29.233603Z"
    },
    "papermill": {
     "duration": 0.142182,
     "end_time": "2021-07-16T02:02:55.019068",
     "exception": false,
     "start_time": "2021-07-16T02:02:54.876886",
     "status": "completed"
    },
    "tags": []
   },
   "outputs": [
    {
     "data": {
      "text/html": [
       "<div>\n",
       "<style scoped>\n",
       "    .dataframe tbody tr th:only-of-type {\n",
       "        vertical-align: middle;\n",
       "    }\n",
       "\n",
       "    .dataframe tbody tr th {\n",
       "        vertical-align: top;\n",
       "    }\n",
       "\n",
       "    .dataframe thead th {\n",
       "        text-align: right;\n",
       "    }\n",
       "</style>\n",
       "<table border=\"1\" class=\"dataframe\">\n",
       "  <thead>\n",
       "    <tr style=\"text-align: right;\">\n",
       "      <th></th>\n",
       "      <th>player_name</th>\n",
       "      <th>Position</th>\n",
       "      <th>birthday</th>\n",
       "      <th>date</th>\n",
       "      <th>overall_rating</th>\n",
       "      <th>short_position</th>\n",
       "    </tr>\n",
       "  </thead>\n",
       "  <tbody>\n",
       "    <tr>\n",
       "      <th>0</th>\n",
       "      <td>Aaron Appindangoye</td>\n",
       "      <td>CB</td>\n",
       "      <td>1992-02-29 00:00:00</td>\n",
       "      <td>2016-02-18 00:00:00</td>\n",
       "      <td>67.0</td>\n",
       "      <td>Defender</td>\n",
       "    </tr>\n",
       "  </tbody>\n",
       "</table>\n",
       "</div>"
      ],
      "text/plain": [
       "          player_name Position             birthday                 date  \\\n",
       "0  Aaron Appindangoye       CB  1992-02-29 00:00:00  2016-02-18 00:00:00   \n",
       "\n",
       "   overall_rating short_position  \n",
       "0            67.0       Defender  "
      ]
     },
     "execution_count": 9,
     "metadata": {},
     "output_type": "execute_result"
    }
   ],
   "source": [
    "PlayerDetails = PlayerDetails[['player_name','Position','birthday','date','overall_rating','short_position']]\n",
    "PlayerDetails.head(1)"
   ]
  },
  {
   "cell_type": "markdown",
   "id": "0abaae13",
   "metadata": {
    "papermill": {
     "duration": 0.031326,
     "end_time": "2021-07-16T02:02:55.081267",
     "exception": false,
     "start_time": "2021-07-16T02:02:55.049941",
     "status": "completed"
    },
    "tags": []
   },
   "source": [
    "* We will drop any player that does not have an overall rating. \n",
    "\n",
    "* Again you can choose to get an average of the characteristics if the overall_rating is not filled in. However, this was not the case for the top players so I did not have to do that"
   ]
  },
  {
   "cell_type": "code",
   "execution_count": 10,
   "id": "4c0205e1",
   "metadata": {
    "execution": {
     "iopub.execute_input": "2021-07-16T02:02:55.151406Z",
     "iopub.status.busy": "2021-07-16T02:02:55.148265Z",
     "iopub.status.idle": "2021-07-16T02:02:55.220993Z",
     "shell.execute_reply": "2021-07-16T02:02:55.220472Z",
     "shell.execute_reply.started": "2021-07-16T01:42:29.391221Z"
    },
    "papermill": {
     "duration": 0.109093,
     "end_time": "2021-07-16T02:02:55.221137",
     "exception": false,
     "start_time": "2021-07-16T02:02:55.112044",
     "status": "completed"
    },
    "tags": []
   },
   "outputs": [
    {
     "data": {
      "text/plain": [
       "player_name       0\n",
       "Position          0\n",
       "birthday          0\n",
       "date              0\n",
       "overall_rating    0\n",
       "short_position    0\n",
       "dtype: int64"
      ]
     },
     "execution_count": 10,
     "metadata": {},
     "output_type": "execute_result"
    }
   ],
   "source": [
    "PlayerDetails = PlayerDetails.dropna(subset = ['overall_rating','date'])\n",
    "PlayerDetails.isnull().sum()"
   ]
  },
  {
   "cell_type": "markdown",
   "id": "f9dff5b2",
   "metadata": {
    "papermill": {
     "duration": 0.031593,
     "end_time": "2021-07-16T02:02:55.283891",
     "exception": false,
     "start_time": "2021-07-16T02:02:55.252298",
     "status": "completed"
    },
    "tags": []
   },
   "source": [
    "* For further computation we would require date columns to be recognized as date columns by python therefore we will convert the following columns to date using the to_datetime pandas method"
   ]
  },
  {
   "cell_type": "code",
   "execution_count": 11,
   "id": "92907ed3",
   "metadata": {
    "execution": {
     "iopub.execute_input": "2021-07-16T02:02:55.356293Z",
     "iopub.status.busy": "2021-07-16T02:02:55.355654Z",
     "iopub.status.idle": "2021-07-16T02:02:55.438895Z",
     "shell.execute_reply": "2021-07-16T02:02:55.438180Z",
     "shell.execute_reply.started": "2021-07-16T01:42:29.475598Z"
    },
    "papermill": {
     "duration": 0.124402,
     "end_time": "2021-07-16T02:02:55.439048",
     "exception": false,
     "start_time": "2021-07-16T02:02:55.314646",
     "status": "completed"
    },
    "tags": []
   },
   "outputs": [],
   "source": [
    "PlayerDetails['date'] = pd.to_datetime(PlayerDetails['date'])\n",
    "PlayerDetails['birthday'] = pd.to_datetime(PlayerDetails['birthday'])"
   ]
  },
  {
   "cell_type": "code",
   "execution_count": 12,
   "id": "465e24a8",
   "metadata": {
    "execution": {
     "iopub.execute_input": "2021-07-16T02:02:55.506191Z",
     "iopub.status.busy": "2021-07-16T02:02:55.505542Z",
     "iopub.status.idle": "2021-07-16T02:02:55.529329Z",
     "shell.execute_reply": "2021-07-16T02:02:55.528706Z",
     "shell.execute_reply.started": "2021-07-16T01:42:29.578036Z"
    },
    "papermill": {
     "duration": 0.05899,
     "end_time": "2021-07-16T02:02:55.529468",
     "exception": false,
     "start_time": "2021-07-16T02:02:55.470478",
     "status": "completed"
    },
    "tags": []
   },
   "outputs": [],
   "source": [
    "PlayerDetails['year'] = PlayerDetails['date'].dt.year"
   ]
  },
  {
   "cell_type": "markdown",
   "id": "62ccd66d",
   "metadata": {
    "papermill": {
     "duration": 0.030889,
     "end_time": "2021-07-16T02:02:55.593695",
     "exception": false,
     "start_time": "2021-07-16T02:02:55.562806",
     "status": "completed"
    },
    "tags": []
   },
   "source": [
    "We now need to determine the world 11 for each year. We will make a function that will take 4 arguments. \n",
    "1. The first argument will be the relevant dataset\n",
    "2. The second will be the position of the player\n",
    "3. The third argument will be the year for which you wish to determine the top players\n",
    "4. Will be the count of players you need for that particular positoion"
   ]
  },
  {
   "cell_type": "code",
   "execution_count": 13,
   "id": "9cfd9c40",
   "metadata": {
    "execution": {
     "iopub.execute_input": "2021-07-16T02:02:55.660879Z",
     "iopub.status.busy": "2021-07-16T02:02:55.660231Z",
     "iopub.status.idle": "2021-07-16T02:02:55.663656Z",
     "shell.execute_reply": "2021-07-16T02:02:55.663120Z",
     "shell.execute_reply.started": "2021-07-16T01:42:29.607176Z"
    },
    "papermill": {
     "duration": 0.039477,
     "end_time": "2021-07-16T02:02:55.663790",
     "exception": false,
     "start_time": "2021-07-16T02:02:55.624313",
     "status": "completed"
    },
    "tags": []
   },
   "outputs": [],
   "source": [
    "def Top_N_Players(df,position,year,n):\n",
    "    Top_filter = df[(df['short_position'] == position) & (df['year'] == year)] \n",
    "    Top_filter = Top_filter.groupby(['year','player_name']).agg({'overall_rating': ['max']})\n",
    "    Top_filter.columns = ['overall_rating']\n",
    "    Top_filter = Top_filter.sort_values(['year','overall_rating'],ascending=(False)).groupby('year').head(n)\n",
    "    Top_filter = Top_filter.reset_index()\n",
    "    return Top_filter"
   ]
  },
  {
   "cell_type": "markdown",
   "id": "f3e72b30",
   "metadata": {
    "papermill": {
     "duration": 0.031065,
     "end_time": "2021-07-16T02:02:55.725544",
     "exception": false,
     "start_time": "2021-07-16T02:02:55.694479",
     "status": "completed"
    },
    "tags": []
   },
   "source": [
    "* We will create another function that, when provided with a year, will output the top 11 players for that particular year based on overall_rating using the Top_N_Players function\n",
    "\n",
    "* I have specifically choosen a 4-3-3 formation. You can change it to choose any you want. "
   ]
  },
  {
   "cell_type": "code",
   "execution_count": 14,
   "id": "aae82abd",
   "metadata": {
    "execution": {
     "iopub.execute_input": "2021-07-16T02:02:55.793881Z",
     "iopub.status.busy": "2021-07-16T02:02:55.793276Z",
     "iopub.status.idle": "2021-07-16T02:02:55.796808Z",
     "shell.execute_reply": "2021-07-16T02:02:55.796280Z",
     "shell.execute_reply.started": "2021-07-16T01:42:30.741719Z"
    },
    "papermill": {
     "duration": 0.040164,
     "end_time": "2021-07-16T02:02:55.796949",
     "exception": false,
     "start_time": "2021-07-16T02:02:55.756785",
     "status": "completed"
    },
    "tags": []
   },
   "outputs": [],
   "source": [
    "def Top_Team(y):\n",
    "    GoalKeeper = Top_N_Players(PlayerDetails,\"GoalKeeper\",y,1)\n",
    "    Defender = Top_N_Players(PlayerDetails,\"Defender\",y,4)\n",
    "    Midfielder = Top_N_Players(PlayerDetails,\"Midfielder\",y,3)\n",
    "    Forward = Top_N_Players(PlayerDetails,\"Forward\",y,3)\n",
    "    Team  = GoalKeeper.append([Defender,Midfielder,Forward])\n",
    "    Team.reset_index()\n",
    "    return Team"
   ]
  },
  {
   "cell_type": "markdown",
   "id": "d6bf257c",
   "metadata": {
    "papermill": {
     "duration": 0.031324,
     "end_time": "2021-07-16T02:02:55.859342",
     "exception": false,
     "start_time": "2021-07-16T02:02:55.828018",
     "status": "completed"
    },
    "tags": []
   },
   "source": [
    "* We can now test our function for a particular year"
   ]
  },
  {
   "cell_type": "code",
   "execution_count": 15,
   "id": "daaf1207",
   "metadata": {
    "execution": {
     "iopub.execute_input": "2021-07-16T02:02:55.939930Z",
     "iopub.status.busy": "2021-07-16T02:02:55.938262Z",
     "iopub.status.idle": "2021-07-16T02:02:56.042594Z",
     "shell.execute_reply": "2021-07-16T02:02:56.042076Z",
     "shell.execute_reply.started": "2021-07-16T01:42:32.657012Z"
    },
    "papermill": {
     "duration": 0.151966,
     "end_time": "2021-07-16T02:02:56.042740",
     "exception": false,
     "start_time": "2021-07-16T02:02:55.890774",
     "status": "completed"
    },
    "tags": []
   },
   "outputs": [
    {
     "data": {
      "text/plain": [
       "['Gianluigi Buffon',\n",
       " 'Alessandro Nesta',\n",
       " 'Fabio Cannavaro',\n",
       " 'John Terry',\n",
       " 'Carles Puyol',\n",
       " 'Wayne Rooney',\n",
       " 'Ronaldinho',\n",
       " 'Frank Lampard',\n",
       " 'Cristiano Ronaldo',\n",
       " 'Thierry Henry',\n",
       " 'David Trezeguet']"
      ]
     },
     "execution_count": 15,
     "metadata": {},
     "output_type": "execute_result"
    }
   ],
   "source": [
    "test = Top_Team(2007)\n",
    "lst = test.player_name.tolist()\n",
    "lst"
   ]
  },
  {
   "cell_type": "markdown",
   "id": "19f15668",
   "metadata": {
    "papermill": {
     "duration": 0.033248,
     "end_time": "2021-07-16T02:02:56.107480",
     "exception": false,
     "start_time": "2021-07-16T02:02:56.074232",
     "status": "completed"
    },
    "tags": []
   },
   "source": [
    "* We now want to showcase the results for the World 11 in an interactive widget. \n",
    "\n",
    "* We will start of by creating a function that sorts a list. This will be used to sort years for which we have the data and use this in a drop down widget from which a person could select any year and the World 11 for that year will be outputted"
   ]
  },
  {
   "cell_type": "code",
   "execution_count": 16,
   "id": "dd074719",
   "metadata": {
    "execution": {
     "iopub.execute_input": "2021-07-16T02:02:56.177646Z",
     "iopub.status.busy": "2021-07-16T02:02:56.176734Z",
     "iopub.status.idle": "2021-07-16T02:02:56.179480Z",
     "shell.execute_reply": "2021-07-16T02:02:56.179043Z",
     "shell.execute_reply.started": "2021-07-16T01:42:35.614406Z"
    },
    "papermill": {
     "duration": 0.040341,
     "end_time": "2021-07-16T02:02:56.179632",
     "exception": false,
     "start_time": "2021-07-16T02:02:56.139291",
     "status": "completed"
    },
    "tags": []
   },
   "outputs": [],
   "source": [
    "#ALL = 'ALL'\n",
    "def unique_sorted_values_plus_ALL(array):\n",
    "    unique = array.unique().tolist()\n",
    "    unique.sort()\n",
    "    #unique.insert(0)\n",
    "    return unique"
   ]
  },
  {
   "cell_type": "markdown",
   "id": "10187d23",
   "metadata": {
    "papermill": {
     "duration": 0.031094,
     "end_time": "2021-07-16T02:02:56.242036",
     "exception": false,
     "start_time": "2021-07-16T02:02:56.210942",
     "status": "completed"
    },
    "tags": []
   },
   "source": [
    "We will create two variables that allow capturing outputs.\n",
    "1. The first output variable will be used to catch the dropdown widget\n",
    "2. The second output widget will be used to capture the visualization for our World 11 in a pitch like graph"
   ]
  },
  {
   "cell_type": "code",
   "execution_count": 17,
   "id": "1c8d2a02",
   "metadata": {
    "execution": {
     "iopub.execute_input": "2021-07-16T02:02:56.316830Z",
     "iopub.status.busy": "2021-07-16T02:02:56.316182Z",
     "iopub.status.idle": "2021-07-16T02:02:56.320197Z",
     "shell.execute_reply": "2021-07-16T02:02:56.318683Z",
     "shell.execute_reply.started": "2021-07-16T01:42:37.238407Z"
    },
    "papermill": {
     "duration": 0.047204,
     "end_time": "2021-07-16T02:02:56.320336",
     "exception": false,
     "start_time": "2021-07-16T02:02:56.273132",
     "status": "completed"
    },
    "tags": []
   },
   "outputs": [],
   "source": [
    "output = widgets.Output()\n",
    "plot_output = widgets.Output()"
   ]
  },
  {
   "cell_type": "markdown",
   "id": "5d2e1950",
   "metadata": {
    "papermill": {
     "duration": 0.030566,
     "end_time": "2021-07-16T02:02:56.382301",
     "exception": false,
     "start_time": "2021-07-16T02:02:56.351735",
     "status": "completed"
    },
    "tags": []
   },
   "source": [
    "* We now assign the year values to the dropdown widget, using the 'unique_sorted_values_plus_ALL' function to sort the years"
   ]
  },
  {
   "cell_type": "code",
   "execution_count": 18,
   "id": "baa077e3",
   "metadata": {
    "execution": {
     "iopub.execute_input": "2021-07-16T02:02:56.447311Z",
     "iopub.status.busy": "2021-07-16T02:02:56.446727Z",
     "iopub.status.idle": "2021-07-16T02:02:56.458283Z",
     "shell.execute_reply": "2021-07-16T02:02:56.458714Z",
     "shell.execute_reply.started": "2021-07-16T01:42:39.533124Z"
    },
    "papermill": {
     "duration": 0.045643,
     "end_time": "2021-07-16T02:02:56.458899",
     "exception": false,
     "start_time": "2021-07-16T02:02:56.413256",
     "status": "completed"
    },
    "tags": []
   },
   "outputs": [],
   "source": [
    "dropdown_year = widgets.Dropdown(options = unique_sorted_values_plus_ALL(PlayerDetails.year), description = 'Year:')"
   ]
  },
  {
   "cell_type": "markdown",
   "id": "5c082fe4",
   "metadata": {
    "papermill": {
     "duration": 0.031301,
     "end_time": "2021-07-16T02:02:56.521725",
     "exception": false,
     "start_time": "2021-07-16T02:02:56.490424",
     "status": "completed"
    },
    "tags": []
   },
   "source": [
    "* We now create the function that will create a pitch visualization and add circles representing each of the 11 players corresponding to their positions on the pitch. We will use our output widgets to catch the results of this function"
   ]
  },
  {
   "cell_type": "code",
   "execution_count": 19,
   "id": "bc121051",
   "metadata": {
    "execution": {
     "iopub.execute_input": "2021-07-16T02:02:56.587369Z",
     "iopub.status.busy": "2021-07-16T02:02:56.586708Z",
     "iopub.status.idle": "2021-07-16T02:02:56.594813Z",
     "shell.execute_reply": "2021-07-16T02:02:56.595242Z",
     "shell.execute_reply.started": "2021-07-16T01:42:41.355592Z"
    },
    "papermill": {
     "duration": 0.042646,
     "end_time": "2021-07-16T02:02:56.595469",
     "exception": false,
     "start_time": "2021-07-16T02:02:56.552823",
     "status": "completed"
    },
    "tags": []
   },
   "outputs": [],
   "source": [
    "\n",
    "def common_filtering(year):\n",
    "    output.clear_output()\n",
    "    plot_output.clear_output(wait = True)\n",
    "    \n",
    "\n",
    "    common_filter = Top_Team(year)\n",
    "    \n",
    "    test = common_filter.player_name.tolist()\n",
    "    x = [10,35,30,30,35,65,65,65,100,95,95] \n",
    "    y = [40,10,30,50,70,20,40,60,40,60,20]\n",
    "    plt.style.use('ggplot')\n",
    "    pitch = Pitch(pitch_type='statsbomb', orientation='vertical',pitch_color='#22312b', line_color='#c7d5cc', figsize=(16, 20),\n",
    "                      constrained_layout=True, tight_layout=False)\n",
    "    fig, ax = pitch.draw()\n",
    "    plt.close(fig)\n",
    "    sc = pitch.scatter(x, y,\n",
    "                            color ='red',edgecolors = 'black',\n",
    "                                s=40000, ax=ax)\n",
    "\n",
    "    for i,j,k in zip(x,y,test):\n",
    "        pitch.annotate(k, (i,j),c='white', va='top', ha='center', size=16, weight='bold', ax=ax)\n",
    "    title = ax.set_title(\"World XI {}\".format(year), size=28, y=0.97, color='#c7d5cc')    \n",
    "\n",
    "    fig.set_facecolor(\"#22312b\")\n",
    "    \n",
    "    \n",
    "    with output:\n",
    "        output.clear_output()\n",
    "        display(common_filter)\n",
    "        \n",
    "    with plot_output:\n",
    "        plot_output.clear_output(wait = True)\n",
    "        display(fig)\n",
    "        "
   ]
  },
  {
   "cell_type": "markdown",
   "id": "d9591767",
   "metadata": {
    "papermill": {
     "duration": 0.031175,
     "end_time": "2021-07-16T02:02:56.658657",
     "exception": false,
     "start_time": "2021-07-16T02:02:56.627482",
     "status": "completed"
    },
    "tags": []
   },
   "source": [
    "* We will define another function that will call our main 'common filtering' function, providing it with the change attribute which allows to capture output for all of the years that we have and display it according to what is selected in the dropdown widget"
   ]
  },
  {
   "cell_type": "code",
   "execution_count": 20,
   "id": "e6dae3b1",
   "metadata": {
    "execution": {
     "iopub.execute_input": "2021-07-16T02:02:56.725366Z",
     "iopub.status.busy": "2021-07-16T02:02:56.724733Z",
     "iopub.status.idle": "2021-07-16T02:02:56.727958Z",
     "shell.execute_reply": "2021-07-16T02:02:56.728360Z",
     "shell.execute_reply.started": "2021-07-16T01:42:43.318004Z"
    },
    "papermill": {
     "duration": 0.038338,
     "end_time": "2021-07-16T02:02:56.728544",
     "exception": false,
     "start_time": "2021-07-16T02:02:56.690206",
     "status": "completed"
    },
    "tags": []
   },
   "outputs": [],
   "source": [
    "def dropdown_year_eventhandler(change):\n",
    "    common_filtering(change.new)"
   ]
  },
  {
   "cell_type": "markdown",
   "id": "4ce3d538",
   "metadata": {
    "papermill": {
     "duration": 0.031284,
     "end_time": "2021-07-16T02:02:56.791158",
     "exception": false,
     "start_time": "2021-07-16T02:02:56.759874",
     "status": "completed"
    },
    "tags": []
   },
   "source": [
    "* We now assign each drop down value the ability to toggle so that it changes the corresponding data"
   ]
  },
  {
   "cell_type": "code",
   "execution_count": 21,
   "id": "bee6786d",
   "metadata": {
    "execution": {
     "iopub.execute_input": "2021-07-16T02:02:56.858858Z",
     "iopub.status.busy": "2021-07-16T02:02:56.858220Z",
     "iopub.status.idle": "2021-07-16T02:02:56.860205Z",
     "shell.execute_reply": "2021-07-16T02:02:56.860659Z",
     "shell.execute_reply.started": "2021-07-16T01:42:44.714096Z"
    },
    "papermill": {
     "duration": 0.037844,
     "end_time": "2021-07-16T02:02:56.860840",
     "exception": false,
     "start_time": "2021-07-16T02:02:56.822996",
     "status": "completed"
    },
    "tags": []
   },
   "outputs": [],
   "source": [
    "dropdown_year.observe(\n",
    "dropdown_year_eventhandler, names='value')"
   ]
  },
  {
   "cell_type": "markdown",
   "id": "db4d71bf",
   "metadata": {
    "papermill": {
     "duration": 0.032181,
     "end_time": "2021-07-16T02:02:56.925114",
     "exception": false,
     "start_time": "2021-07-16T02:02:56.892933",
     "status": "completed"
    },
    "tags": []
   },
   "source": [
    "* This outputs the dropdown"
   ]
  },
  {
   "cell_type": "code",
   "execution_count": 22,
   "id": "d0f296f6",
   "metadata": {
    "execution": {
     "iopub.execute_input": "2021-07-16T02:02:56.992262Z",
     "iopub.status.busy": "2021-07-16T02:02:56.991586Z",
     "iopub.status.idle": "2021-07-16T02:02:57.001808Z",
     "shell.execute_reply": "2021-07-16T02:02:57.002274Z",
     "shell.execute_reply.started": "2021-07-16T01:42:46.311152Z"
    },
    "papermill": {
     "duration": 0.044925,
     "end_time": "2021-07-16T02:02:57.002451",
     "exception": false,
     "start_time": "2021-07-16T02:02:56.957526",
     "status": "completed"
    },
    "tags": []
   },
   "outputs": [
    {
     "data": {
      "application/vnd.jupyter.widget-view+json": {
       "model_id": "89938e4cb3fb4435afd9b31577fd222b",
       "version_major": 2,
       "version_minor": 0
      },
      "text/plain": [
       "HBox(children=(Dropdown(description='Year:', options=(2007, 2008, 2009, 2010, 2011, 2012, 2013, 2014, 2015, 20…"
      ]
     },
     "metadata": {},
     "output_type": "display_data"
    }
   ],
   "source": [
    "input_widgets = widgets.HBox(\n",
    "[dropdown_year])\n",
    "display(input_widgets)"
   ]
  },
  {
   "cell_type": "markdown",
   "id": "415e2709",
   "metadata": {
    "papermill": {
     "duration": 0.031216,
     "end_time": "2021-07-16T02:02:57.065249",
     "exception": false,
     "start_time": "2021-07-16T02:02:57.034033",
     "status": "completed"
    },
    "tags": []
   },
   "source": [
    "* This outputs the Visualization and the Data in a tabular format. You can use the dropdown widget to see the World 11 for any particular year. Just for context, find the link to the official World 11, https://www.squawka.com/en/fifpro-xi-every-side-2005/"
   ]
  },
  {
   "cell_type": "code",
   "execution_count": 23,
   "id": "26d9e529",
   "metadata": {
    "execution": {
     "iopub.execute_input": "2021-07-16T02:02:57.141185Z",
     "iopub.status.busy": "2021-07-16T02:02:57.140437Z",
     "iopub.status.idle": "2021-07-16T02:02:57.146290Z",
     "shell.execute_reply": "2021-07-16T02:02:57.145777Z",
     "shell.execute_reply.started": "2021-07-16T01:42:49.163776Z"
    },
    "papermill": {
     "duration": 0.048948,
     "end_time": "2021-07-16T02:02:57.146425",
     "exception": false,
     "start_time": "2021-07-16T02:02:57.097477",
     "status": "completed"
    },
    "scrolled": true,
    "tags": []
   },
   "outputs": [
    {
     "data": {
      "application/vnd.jupyter.widget-view+json": {
       "model_id": "35442f7066064b3989ec2306eafdcc45",
       "version_major": 2,
       "version_minor": 0
      },
      "text/plain": [
       "Tab(children=(Output(), Output()), _titles={'0': 'Dataset Exploration', '1': 'Formation Plot'})"
      ]
     },
     "metadata": {},
     "output_type": "display_data"
    }
   ],
   "source": [
    "tab = widgets.Tab([output, plot_output])\n",
    "tab.set_title(0, 'Dataset Exploration')\n",
    "tab.set_title(1, 'Formation Plot')\n",
    "display(tab)"
   ]
  },
  {
   "cell_type": "markdown",
   "id": "0c0a9c5b",
   "metadata": {
    "papermill": {
     "duration": 0.031574,
     "end_time": "2021-07-16T02:02:57.210162",
     "exception": false,
     "start_time": "2021-07-16T02:02:57.178588",
     "status": "completed"
    },
    "tags": []
   },
   "source": [
    "**Unfortunately, interactive widgets are not supported in Kaggle so find below the output for the Year 2016. However, feel free to run the code on your end in order to interact with the drop down widget and see the Fifa Wolrd 11 for all years included in the dataset. (2007 - 2016) as of the date this was done.**"
   ]
  },
  {
   "attachments": {
    "6311df5f-5e44-480d-8a6f-24263afa5713.png": {
     "image/png": "[encoded data removed]"
    }
   },
   "cell_type": "markdown",
   "id": "c0eef2e6",
   "metadata": {
    "papermill": {
     "duration": 0.031269,
     "end_time": "2021-07-16T02:02:57.273484",
     "exception": false,
     "start_time": "2021-07-16T02:02:57.242215",
     "status": "completed"
    },
    "tags": []
   },
   "source": [
    "![image.png](attachment:6311df5f-5e44-480d-8a6f-24263afa5713.png)"
   ]
  },
  {
   "cell_type": "markdown",
   "id": "e6ade6fc",
   "metadata": {
    "papermill": {
     "duration": 0.031673,
     "end_time": "2021-07-16T02:02:57.336867",
     "exception": false,
     "start_time": "2021-07-16T02:02:57.305194",
     "status": "completed"
    },
    "tags": []
   },
   "source": []
  },
  {
   "cell_type": "markdown",
   "id": "7fd31462",
   "metadata": {
    "papermill": {
     "duration": 0.031473,
     "end_time": "2021-07-16T02:02:57.400211",
     "exception": false,
     "start_time": "2021-07-16T02:02:57.368738",
     "status": "completed"
    },
    "tags": []
   },
   "source": []
  }
 ],
 "metadata": {
  "kernelspec": {
   "display_name": "Python 3",
   "language": "python",
   "name": "python3"
  },
  "language_info": {
   "codemirror_mode": {
    "name": "ipython",
    "version": 3
   },
   "file_extension": ".py",
   "mimetype": "text/x-python",
   "name": "python",
   "nbconvert_exporter": "python",
   "pygments_lexer": "ipython3",
   "version": "3.7.10"
  },
  "papermill": {
   "default_parameters": {},
   "duration": 40.847015,
   "end_time": "2021-07-16T02:02:59.086282",
   "environment_variables": {},
   "exception": null,
   "input_path": "__notebook__.ipynb",
   "output_path": "__notebook__.ipynb",
   "parameters": {},
   "start_time": "2021-07-16T02:02:18.239267",
   "version": "2.3.3"
  },
  "widgets": {
   "application/vnd.jupyter.widget-state+json": {
    "state": {
     "0e94121327fb44b683e03b8834511a99": {
      "model_module": "@jupyter-widgets/base",
      "model_module_version": "1.2.0",
      "model_name": "LayoutModel",
      "state": {
       "_model_module": "@jupyter-widgets/base",
       "_model_module_version": "1.2.0",
       "_model_name": "LayoutModel",
       "_view_count": null,
       "_view_module": "@jupyter-widgets/base",
       "_view_module_version": "1.2.0",
       "_view_name": "LayoutView",
       "align_content": null,
       "align_items": null,
       "align_self": null,
       "border": null,
       "bottom": null,
       "display": null,
       "flex": null,
       "flex_flow": null,
       "grid_area": null,
       "grid_auto_columns": null,
       "grid_auto_flow": null,
       "grid_auto_rows": null,
       "grid_column": null,
       "grid_gap": null,
       "grid_row": null,
       "grid_template_areas": null,
       "grid_template_columns": null,
       "grid_template_rows": null,
       "height": null,
       "justify_content": null,
       "justify_items": null,
       "left": null,
       "margin": null,
       "max_height": null,
       "max_width": null,
       "min_height": null,
       "min_width": null,
       "object_fit": null,
       "object_position": null,
       "order": null,
       "overflow": null,
       "overflow_x": null,
       "overflow_y": null,
       "padding": null,
       "right": null,
       "top": null,
       "visibility": null,
       "width": null
      }
     },
     "2a0297c2229e41df9e2458ef49c10523": {
      "model_module": "@jupyter-widgets/base",
      "model_module_version": "1.2.0",
      "model_name": "LayoutModel",
      "state": {
       "_model_module": "@jupyter-widgets/base",
       "_model_module_version": "1.2.0",
       "_model_name": "LayoutModel",
       "_view_count": null,
       "_view_module": "@jupyter-widgets/base",
       "_view_module_version": "1.2.0",
       "_view_name": "LayoutView",
       "align_content": null,
       "align_items": null,
       "align_self": null,
       "border": null,
       "bottom": null,
       "display": null,
       "flex": null,
       "flex_flow": null,
       "grid_area": null,
       "grid_auto_columns": null,
       "grid_auto_flow": null,
       "grid_auto_rows": null,
       "grid_column": null,
       "grid_gap": null,
       "grid_row": null,
       "grid_template_areas": null,
       "grid_template_columns": null,
       "grid_template_rows": null,
       "height": null,
       "justify_content": null,
       "justify_items": null,
       "left": null,
       "margin": null,
       "max_height": null,
       "max_width": null,
       "min_height": null,
       "min_width": null,
       "object_fit": null,
       "object_position": null,
       "order": null,
       "overflow": null,
       "overflow_x": null,
       "overflow_y": null,
       "padding": null,
       "right": null,
       "top": null,
       "visibility": null,
       "width": null
      }
     },
     "35442f7066064b3989ec2306eafdcc45": {
      "model_module": "@jupyter-widgets/controls",
      "model_module_version": "1.5.0",
      "model_name": "TabModel",
      "state": {
       "_dom_classes": [],
       "_model_module": "@jupyter-widgets/controls",
       "_model_module_version": "1.5.0",
       "_model_name": "TabModel",
       "_titles": {
        "0": "Dataset Exploration",
        "1": "Formation Plot"
       },
       "_view_count": null,
       "_view_module": "@jupyter-widgets/controls",
       "_view_module_version": "1.5.0",
       "_view_name": "TabView",
       "box_style": "",
       "children": [
        "IPY_MODEL_bd4f2f6624364eb39e1bdcb459de9124",
        "IPY_MODEL_a6cd9bec312c48b2ad57eedac88f2cc4"
       ],
       "layout": "IPY_MODEL_cfea04faa83c4850afbb41a414ddbdd0",
       "selected_index": 0
      }
     },
     "8408b3cf4c664c6f8cb3c18ecebbefaa": {
      "model_module": "@jupyter-widgets/base",
      "model_module_version": "1.2.0",
      "model_name": "LayoutModel",
      "state": {
       "_model_module": "@jupyter-widgets/base",
       "_model_module_version": "1.2.0",
       "_model_name": "LayoutModel",
       "_view_count": null,
       "_view_module": "@jupyter-widgets/base",
       "_view_module_version": "1.2.0",
       "_view_name": "LayoutView",
       "align_content": null,
       "align_items": null,
       "align_self": null,
       "border": null,
       "bottom": null,
       "display": null,
       "flex": null,
       "flex_flow": null,
       "grid_area": null,
       "grid_auto_columns": null,
       "grid_auto_flow": null,
       "grid_auto_rows": null,
       "grid_column": null,
       "grid_gap": null,
       "grid_row": null,
       "grid_template_areas": null,
       "grid_template_columns": null,
       "grid_template_rows": null,
       "height": null,
       "justify_content": null,
       "justify_items": null,
       "left": null,
       "margin": null,
       "max_height": null,
       "max_width": null,
       "min_height": null,
       "min_width": null,
       "object_fit": null,
       "object_position": null,
       "order": null,
       "overflow": null,
       "overflow_x": null,
       "overflow_y": null,
       "padding": null,
       "right": null,
       "top": null,
       "visibility": null,
       "width": null
      }
     },
     "89938e4cb3fb4435afd9b31577fd222b": {
      "model_module": "@jupyter-widgets/controls",
      "model_module_version": "1.5.0",
      "model_name": "HBoxModel",
      "state": {
       "_dom_classes": [],
       "_model_module": "@jupyter-widgets/controls",
       "_model_module_version": "1.5.0",
       "_model_name": "HBoxModel",
       "_view_count": null,
       "_view_module": "@jupyter-widgets/controls",
       "_view_module_version": "1.5.0",
       "_view_name": "HBoxView",
       "box_style": "",
       "children": [
        "IPY_MODEL_993d68ccec8741b8a2543019c0781b00"
       ],
       "layout": "IPY_MODEL_2a0297c2229e41df9e2458ef49c10523"
      }
     },
     "915f08ae7288471395969706ec07ee34": {
      "model_module": "@jupyter-widgets/base",
      "model_module_version": "1.2.0",
      "model_name": "LayoutModel",
      "state": {
       "_model_module": "@jupyter-widgets/base",
       "_model_module_version": "1.2.0",
       "_model_name": "LayoutModel",
       "_view_count": null,
       "_view_module": "@jupyter-widgets/base",
       "_view_module_version": "1.2.0",
       "_view_name": "LayoutView",
       "align_content": null,
       "align_items": null,
       "align_self": null,
       "border": null,
       "bottom": null,
       "display": null,
       "flex": null,
       "flex_flow": null,
       "grid_area": null,
       "grid_auto_columns": null,
       "grid_auto_flow": null,
       "grid_auto_rows": null,
       "grid_column": null,
       "grid_gap": null,
       "grid_row": null,
       "grid_template_areas": null,
       "grid_template_columns": null,
       "grid_template_rows": null,
       "height": null,
       "justify_content": null,
       "justify_items": null,
       "left": null,
       "margin": null,
       "max_height": null,
       "max_width": null,
       "min_height": null,
       "min_width": null,
       "object_fit": null,
       "object_position": null,
       "order": null,
       "overflow": null,
       "overflow_x": null,
       "overflow_y": null,
       "padding": null,
       "right": null,
       "top": null,
       "visibility": null,
       "width": null
      }
     },
     "993d68ccec8741b8a2543019c0781b00": {
      "model_module": "@jupyter-widgets/controls",
      "model_module_version": "1.5.0",
      "model_name": "DropdownModel",
      "state": {
       "_dom_classes": [],
       "_model_module": "@jupyter-widgets/controls",
       "_model_module_version": "1.5.0",
       "_model_name": "DropdownModel",
       "_options_labels": [
        "2007",
        "2008",
        "2009",
        "2010",
        "2011",
        "2012",
        "2013",
        "2014",
        "2015",
        "2016"
       ],
       "_view_count": null,
       "_view_module": "@jupyter-widgets/controls",
       "_view_module_version": "1.5.0",
       "_view_name": "DropdownView",
       "description": "Year:",
       "description_tooltip": null,
       "disabled": false,
       "index": 0,
       "layout": "IPY_MODEL_8408b3cf4c664c6f8cb3c18ecebbefaa",
       "style": "IPY_MODEL_fc153f58cf30405ba310d84f0851586b"
      }
     },
     "a6cd9bec312c48b2ad57eedac88f2cc4": {
      "model_module": "@jupyter-widgets/output",
      "model_module_version": "1.0.0",
      "model_name": "OutputModel",
      "state": {
       "_dom_classes": [],
       "_model_module": "@jupyter-widgets/output",
       "_model_module_version": "1.0.0",
       "_model_name": "OutputModel",
       "_view_count": null,
       "_view_module": "@jupyter-widgets/output",
       "_view_module_version": "1.0.0",
       "_view_name": "OutputView",
       "layout": "IPY_MODEL_0e94121327fb44b683e03b8834511a99",
       "msg_id": "",
       "outputs": []
      }
     },
     "bd4f2f6624364eb39e1bdcb459de9124": {
      "model_module": "@jupyter-widgets/output",
      "model_module_version": "1.0.0",
      "model_name": "OutputModel",
      "state": {
       "_dom_classes": [],
       "_model_module": "@jupyter-widgets/output",
       "_model_module_version": "1.0.0",
       "_model_name": "OutputModel",
       "_view_count": null,
       "_view_module": "@jupyter-widgets/output",
       "_view_module_version": "1.0.0",
       "_view_name": "OutputView",
       "layout": "IPY_MODEL_915f08ae7288471395969706ec07ee34",
       "msg_id": "",
       "outputs": []
      }
     },
     "cfea04faa83c4850afbb41a414ddbdd0": {
      "model_module": "@jupyter-widgets/base",
      "model_module_version": "1.2.0",
      "model_name": "LayoutModel",
      "state": {
       "_model_module": "@jupyter-widgets/base",
       "_model_module_version": "1.2.0",
       "_model_name": "LayoutModel",
       "_view_count": null,
       "_view_module": "@jupyter-widgets/base",
       "_view_module_version": "1.2.0",
       "_view_name": "LayoutView",
       "align_content": null,
       "align_items": null,
       "align_self": null,
       "border": null,
       "bottom": null,
       "display": null,
       "flex": null,
       "flex_flow": null,
       "grid_area": null,
       "grid_auto_columns": null,
       "grid_auto_flow": null,
       "grid_auto_rows": null,
       "grid_column": null,
       "grid_gap": null,
       "grid_row": null,
       "grid_template_areas": null,
       "grid_template_columns": null,
       "grid_template_rows": null,
       "height": null,
       "justify_content": null,
       "justify_items": null,
       "left": null,
       "margin": null,
       "max_height": null,
       "max_width": null,
       "min_height": null,
       "min_width": null,
       "object_fit": null,
       "object_position": null,
       "order": null,
       "overflow": null,
       "overflow_x": null,
       "overflow_y": null,
       "padding": null,
       "right": null,
       "top": null,
       "visibility": null,
       "width": null
      }
     },
     "fc153f58cf30405ba310d84f0851586b": {
      "model_module": "@jupyter-widgets/controls",
      "model_module_version": "1.5.0",
      "model_name": "DescriptionStyleModel",
      "state": {
       "_model_module": "@jupyter-widgets/controls",
       "_model_module_version": "1.5.0",
       "_model_name": "DescriptionStyleModel",
       "_view_count": null,
       "_view_module": "@jupyter-widgets/base",
       "_view_module_version": "1.2.0",
       "_view_name": "StyleView",
       "description_width": ""
      }
     }
    },
    "version_major": 2,
    "version_minor": 0
   }
  }
 },
 "nbformat": 4,
 "nbformat_minor": 5
}
